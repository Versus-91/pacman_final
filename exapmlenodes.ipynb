{
 "cells": [
  {
   "cell_type": "code",
   "execution_count": 1,
   "id": "a50bb761",
   "metadata": {},
   "outputs": [
    {
     "name": "stdout",
     "output_type": "stream",
     "text": [
      "pygame 2.3.0 (SDL 2.24.2, Python 3.9.12)\n",
      "Hello from the pygame community. https://www.pygame.org/contribute.html\n"
     ]
    }
   ],
   "source": [
    "import pygame\n",
    "from vector import Vectors\n",
    "#from constants import *\n",
    "WHITE = (255, 255, 255)\n",
    "RED = (255, 0, 0)\n",
    "class Node(object):\n",
    "    def __init__(self, x, y):\n",
    "        self.position = Vectors(x, y)\n",
    "        self.neighbors = {up:None, down:None, left:None, right:None}\n",
    "\n",
    "    def draw(self, screen):\n",
    "        for n in self.neighbors.keys():\n",
    "            if self.neighbors[n] is not None:\n",
    "                line_start = self.position.asTuple()\n",
    "                line_end = self.neighbors[n].position.asTuple()\n",
    "                pygame.draw.line(screen, \"white\", line_start, line_end, 4)\n",
    "                pygame.draw.circle(screen, \"red\", self.position.asInt(), 12)\n",
    "\n",
    "class NodeGroup(object):\n",
    "    def __init__(self):\n",
    "        self.nodeList = []\n",
    "\n",
    "    def setupTestNodes(self):\n",
    "        nodeA = Node(80 ,80)\n",
    "        nodeB = Node(160, 80)\n",
    "        nodeC = Node(80, 160)\n",
    "        nodeD = Node(160, 160)\n",
    "        nodeE = Node(208, 160)\n",
    "        nodeF = Node(80, 320)\n",
    "        nodeG = Node(208, 320)\n",
    "        nodeA.neighbors[right] = nodeB\n",
    "        nodeA.neighbors[down] = nodeC\n",
    "        nodeB.neighbors[left] = nodeA\n",
    "        nodeB.neighbors[down] = nodeD\n",
    "        nodeC.neighbors[up] = nodeA\n",
    "        nodeC.neighbors[right] = nodeD\n",
    "        nodeC.neighbors[down] = nodeF\n",
    "        nodeD.neighbors[up] = nodeB\n",
    "        nodeD.neighbors[left] = nodeC\n",
    "        nodeD.neighbors[right] = nodeE\n",
    "        nodeE.neighbors[left] = nodeD\n",
    "        nodeE.neighbors[down] = nodeG\n",
    "        nodeF.neighbors[up] = nodeC\n",
    "        nodeF.neighbors[right] = nodeG\n",
    "        nodeG.neighbors[up] = nodeE\n",
    "        nodeG.neighbors[left] = nodeF\n",
    "        self.nodeList = [nodeA, nodeB, nodeC, nodeD, nodeE, nodeF, nodeG]\n",
    "        \n",
    "    def render(self, screen):\n",
    "        for node in self.nodeList:\n",
    "            node.draw(screen)"
   ]
  },
  {
   "cell_type": "code",
   "execution_count": null,
   "id": "e76b4e8e",
   "metadata": {},
   "outputs": [],
   "source": []
  }
 ],
 "metadata": {
  "kernelspec": {
   "display_name": "Python 3 (ipykernel)",
   "language": "python",
   "name": "python3"
  },
  "language_info": {
   "codemirror_mode": {
    "name": "ipython",
    "version": 3
   },
   "file_extension": ".py",
   "mimetype": "text/x-python",
   "name": "python",
   "nbconvert_exporter": "python",
   "pygments_lexer": "ipython3",
   "version": "3.9.12"
  }
 },
 "nbformat": 4,
 "nbformat_minor": 5
}
