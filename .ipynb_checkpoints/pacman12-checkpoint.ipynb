{
 "cells": [
  {
   "cell_type": "code",
   "execution_count": 1,
   "id": "182ec203",
   "metadata": {},
   "outputs": [
    {
     "name": "stdout",
     "output_type": "stream",
     "text": [
      "pygame 2.3.0 (SDL 2.24.2, Python 3.9.12)\n",
      "Hello from the pygame community. https://www.pygame.org/contribute.html\n"
     ]
    }
   ],
   "source": [
    "import pygame\n",
    "from pygame.locals import *\n",
    "from vector import Vectors\n",
    "#from constants import *\n",
    "pacman_col = (255, 255, 0)\n",
    "\n",
    "stop = 0#STOP = 0\n",
    "up = 3 #UP = 1 #\n",
    "down =4 #DOWN = -1\n",
    "left = 1 #LEFT = 2\n",
    "right =2 #RIGHT = -2\n",
    "\n",
    "name1=0#PACMAN = 0\n",
    "\n",
    "class mypacman(object): #Pacman\n",
    "    def __init__(self):\n",
    "        self.name = name1 \n",
    "        self.position = Vector2(200, 400)\n",
    "        self.directions = {stop:Vectors(),left:Vectors(-1,0), right:Vectors(1,0), up:Vectors(0,-1), \n",
    "                           down:Vectors(0,1) }\n",
    "        \n",
    "        self.direction = stop\n",
    "        self.speed = 100\n",
    "        self.radius = 10\n",
    "        self.color = pacman_col\n",
    "    def key(self): #getValidKey\n",
    "        key_pressed = pygame.key.get_pressed()\n",
    "        if key_pressed[K_LEFT]:\n",
    "            return left\n",
    "        if key_pressed[K_RIGHT]:\n",
    "            return right\n",
    "        if key_pressed[K_UP]:\n",
    "            return up\n",
    "        if key_pressed[K_DOWN]:\n",
    "            return down\n",
    "        return STOP\n",
    "    \n",
    "    def update(self, dt):\t\n",
    "        self.position += self.directions[self.direction]*self.speed*time #remove time?\n",
    "        direction = self.key()\n",
    "        self.direction = direction\n",
    "    def draw(self, screen): #render\n",
    "        p = self.position.asInt()\n",
    "        pygame.draw.circle(screen, self.color, p, self.radius)\n",
    "\n"
   ]
  },
  {
   "cell_type": "code",
   "execution_count": null,
   "id": "19290a1b",
   "metadata": {},
   "outputs": [],
   "source": []
  }
 ],
 "metadata": {
  "kernelspec": {
   "display_name": "Python 3 (ipykernel)",
   "language": "python",
   "name": "python3"
  },
  "language_info": {
   "codemirror_mode": {
    "name": "ipython",
    "version": 3
   },
   "file_extension": ".py",
   "mimetype": "text/x-python",
   "name": "python",
   "nbconvert_exporter": "python",
   "pygments_lexer": "ipython3",
   "version": "3.9.12"
  }
 },
 "nbformat": 4,
 "nbformat_minor": 5
}
